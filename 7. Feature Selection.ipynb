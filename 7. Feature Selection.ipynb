{
 "cells": [
  {
   "cell_type": "code",
   "execution_count": 2,
   "id": "9e7527a4",
   "metadata": {},
   "outputs": [
    {
     "name": "stdout",
     "output_type": "stream",
     "text": [
      "[[0 1]\n",
      " [1 0]\n",
      " [0 0]\n",
      " [1 1]\n",
      " [1 1]]\n"
     ]
    }
   ],
   "source": [
    "# Variance-Based Feature Selection\n",
    "from sklearn.feature_selection import VarianceThreshold\n",
    "\n",
    "# Sample data\n",
    "X = [[0, 0, 1], [0, 1, 0], [0, 0, 0], [0, 1, 1], [0, 1, 1]]\n",
    "\n",
    "# Create VarianceThreshold object with a threshold of 0.8 * (1 - 0.8)\n",
    "sel = VarianceThreshold(threshold=(0.8 * (1 - 0.8)))\n",
    "\n",
    "# Fit and transform the data\n",
    "X_transformed = sel.fit_transform(X)\n",
    "\n",
    "# Print the transformed data\n",
    "print(X_transformed)"
   ]
  },
  {
   "cell_type": "code",
   "execution_count": 4,
   "id": "02de6623",
   "metadata": {},
   "outputs": [
    {
     "name": "stdout",
     "output_type": "stream",
     "text": [
      "(150, 4)\n"
     ]
    }
   ],
   "source": [
    "# Statistical Model Selection\n",
    "from sklearn.datasets import load_iris\n",
    "from sklearn.feature_selection import SelectKBest\n",
    "from sklearn.feature_selection import chi2\n",
    "\n",
    "# Load the Iris dataset\n",
    "X, y = load_iris(return_X_y=True)\n",
    "print(X.shape)  # Output: (150, 4)\n"
   ]
  },
  {
   "cell_type": "code",
   "execution_count": 5,
   "id": "88544661",
   "metadata": {},
   "outputs": [
    {
     "name": "stdout",
     "output_type": "stream",
     "text": [
      "(150, 2)\n"
     ]
    }
   ],
   "source": [
    "# Select the top 2 features using the chi-squared test\n",
    "X_new = SelectKBest(chi2, k=2).fit_transform(X, y)\n",
    "print(X_new.shape)  # Output: (150, 2)"
   ]
  },
  {
   "cell_type": "code",
   "execution_count": 6,
   "id": "79e4ed75",
   "metadata": {},
   "outputs": [
    {
     "name": "stdout",
     "output_type": "stream",
     "text": [
      "(150, 4)\n"
     ]
    }
   ],
   "source": [
    "# Model-Based Feature Selection\n",
    "from sklearn.svm import LinearSVC\n",
    "from sklearn.feature_selection import SelectFromModel\n",
    "\n",
    "# Load the Iris dataset\n",
    "X, y = load_iris(return_X_y=True)\n",
    "print(X.shape)  # Output: (150, 4)"
   ]
  },
  {
   "cell_type": "code",
   "execution_count": 7,
   "id": "fc83a7b2",
   "metadata": {},
   "outputs": [
    {
     "name": "stdout",
     "output_type": "stream",
     "text": [
      "(150, 3)\n"
     ]
    }
   ],
   "source": [
    "# Use LinearSVC to select features\n",
    "lsvc = LinearSVC(C=0.01, penalty=\"l1\", dual=False).fit(X, y)\n",
    "model = SelectFromModel(lsvc, prefit=True)\n",
    "X_new_model = model.transform(X)\n",
    "print(X_new_model.shape)  # Output will depend on the selected features"
   ]
  },
  {
   "cell_type": "code",
   "execution_count": 8,
   "id": "0602afe8",
   "metadata": {},
   "outputs": [
    {
     "name": "stdout",
     "output_type": "stream",
     "text": [
      "(150, 2)\n"
     ]
    }
   ],
   "source": [
    "# Use LinearSVC to select features\n",
    "lsvc = LinearSVC(C=0.01, penalty=\"l2\", dual=False).fit(X, y)\n",
    "model = SelectFromModel(lsvc, prefit=True)\n",
    "X_new_model = model.transform(X)\n",
    "print(X_new_model.shape)  # Output will depend on the selected features"
   ]
  },
  {
   "cell_type": "code",
   "execution_count": 9,
   "id": "85836829",
   "metadata": {},
   "outputs": [
    {
     "name": "stdout",
     "output_type": "stream",
     "text": [
      "(150, 4)\n"
     ]
    }
   ],
   "source": [
    "# Tree-based Feature Selection\n",
    "from sklearn.ensemble import ExtraTreesClassifier\n",
    "from sklearn.datasets import load_iris\n",
    "from sklearn.feature_selection import SelectFromModel\n",
    "\n",
    "# Load the Iris dataset\n",
    "X, y = load_iris(return_X_y=True)\n",
    "print(X.shape)  # Output: (150, 4)"
   ]
  },
  {
   "cell_type": "code",
   "execution_count": 11,
   "id": "edb8f93c",
   "metadata": {},
   "outputs": [
    {
     "name": "stdout",
     "output_type": "stream",
     "text": [
      "[0.11198381 0.05922501 0.391778   0.43701319]\n"
     ]
    }
   ],
   "source": [
    "# Train an ExtraTreesClassifier\n",
    "clf = ExtraTreesClassifier(n_estimators=50)\n",
    "clf.fit(X, y)\n",
    "\n",
    "# Display feature importances\n",
    "print(clf.feature_importances_)"
   ]
  },
  {
   "cell_type": "code",
   "execution_count": 12,
   "id": "baed5c3a",
   "metadata": {},
   "outputs": [
    {
     "name": "stdout",
     "output_type": "stream",
     "text": [
      "(150, 2)\n"
     ]
    }
   ],
   "source": [
    "# Use SelectFromModel to select features based on the trained classifier\n",
    "model = SelectFromModel(clf, prefit=True)\n",
    "X_new = model.transform(X)\n",
    "print(X_new.shape)  # Output will depend on the selected features"
   ]
  },
  {
   "cell_type": "code",
   "execution_count": null,
   "id": "ae8fd897",
   "metadata": {},
   "outputs": [],
   "source": []
  }
 ],
 "metadata": {
  "kernelspec": {
   "display_name": "Python 3 (ipykernel)",
   "language": "python",
   "name": "python3"
  },
  "language_info": {
   "codemirror_mode": {
    "name": "ipython",
    "version": 3
   },
   "file_extension": ".py",
   "mimetype": "text/x-python",
   "name": "python",
   "nbconvert_exporter": "python",
   "pygments_lexer": "ipython3",
   "version": "3.11.5"
  }
 },
 "nbformat": 4,
 "nbformat_minor": 5
}
